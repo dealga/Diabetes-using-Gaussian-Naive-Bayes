{
 "cells": [
  {
   "cell_type": "code",
   "execution_count": 2,
   "id": "5be61ae7-6feb-4a63-b49f-fa23f203fe6a",
   "metadata": {},
   "outputs": [
    {
     "name": "stdout",
     "output_type": "stream",
     "text": [
      "   glucose  bloodpressure\n",
      "0       40             85\n",
      "1       40             92\n",
      "2       45             63\n",
      "3       45             80\n",
      "4       40             73\n",
      "0    0\n",
      "1    0\n",
      "2    1\n",
      "3    0\n",
      "4    1\n",
      "Name: diabetes, dtype: int64\n",
      "Accuracy: 0.9296482412060302\n",
      "\n",
      "Classification Report:\n",
      "              precision    recall  f1-score   support\n",
      "\n",
      "           0       0.92      0.92      0.92        93\n",
      "           1       0.93      0.93      0.93       106\n",
      "\n",
      "    accuracy                           0.93       199\n",
      "   macro avg       0.93      0.93      0.93       199\n",
      "weighted avg       0.93      0.93      0.93       199\n",
      "\n",
      "\n",
      "Confusion Matrix:\n",
      "[[86  7]\n",
      " [ 7 99]]\n"
     ]
    }
   ],
   "source": [
    "import pandas as pd\n",
    "from sklearn.model_selection import train_test_split\n",
    "from sklearn.naive_bayes import GaussianNB\n",
    "from sklearn.metrics import accuracy_score, classification_report, confusion_matrix\n",
    "\n",
    "\n",
    "df = pd.read_csv('C:/Users/user/Desktop/Naive-Bayes-Classification-Data.csv')\n",
    "\n",
    "\n",
    "X = df[['glucose', 'bloodpressure']]\n",
    "y = df['diabetes']\n",
    "\n",
    "print(X.head())\n",
    "print(y.head())\n",
    "\n",
    "X_train, X_test, y_train, y_test = train_test_split(X, y, test_size=0.2, random_state=42)\n",
    "\n",
    "\n",
    "nb_classifier = GaussianNB()\n",
    "nb_classifier.fit(X_train, y_train)\n",
    "\n",
    "predictions = nb_classifier.predict(X_test)\n",
    "\n",
    "\n",
    "accuracy = accuracy_score(y_test, predictions)\n",
    "print(\"Accuracy:\", accuracy)\n",
    "\n",
    "\n",
    "print(\"\\nClassification Report:\")\n",
    "print(classification_report(y_test, predictions))\n",
    "\n",
    "print(\"\\nConfusion Matrix:\")\n",
    "print(confusion_matrix(y_test, predictions))\n"
   ]
  }
 ],
 "metadata": {
  "kernelspec": {
   "display_name": "Python 3 (ipykernel)",
   "language": "python",
   "name": "python3"
  },
  "language_info": {
   "codemirror_mode": {
    "name": "ipython",
    "version": 3
   },
   "file_extension": ".py",
   "mimetype": "text/x-python",
   "name": "python",
   "nbconvert_exporter": "python",
   "pygments_lexer": "ipython3",
   "version": "3.9.7"
  }
 },
 "nbformat": 4,
 "nbformat_minor": 5
}
